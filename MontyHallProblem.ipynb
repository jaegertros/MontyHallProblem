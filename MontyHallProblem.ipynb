{
  "nbformat": 4,
  "nbformat_minor": 0,
  "metadata": {
    "colab": {
      "name": "MontyHallProblem.ipynb",
      "provenance": [],
      "authorship_tag": "ABX9TyN2nqjIeaQRbbrUY5gRUWh4",
      "include_colab_link": true
    },
    "kernelspec": {
      "name": "python3",
      "display_name": "Python 3"
    }
  },
  "cells": [
    {
      "cell_type": "markdown",
      "metadata": {
        "id": "view-in-github",
        "colab_type": "text"
      },
      "source": [
        "<a href=\"https://colab.research.google.com/github/jaegertros/MontyHallProblem/blob/main/MontyHallProblem.ipynb\" target=\"_parent\"><img src=\"https://colab.research.google.com/assets/colab-badge.svg\" alt=\"Open In Colab\"/></a>"
      ]
    },
    {
      "cell_type": "code",
      "metadata": {
        "id": "Mze1TfkWwdyC"
      },
      "source": [
        "#Description: This program simulates the Monty Hall problem"
      ],
      "execution_count": null,
      "outputs": []
    },
    {
      "cell_type": "code",
      "metadata": {
        "id": "ELNpxnQZxCXv"
      },
      "source": [
        "import numpy as np\r\n",
        "import matplotlib.pyplot as plt\r\n",
        "import matplotlib as mpl\r\n",
        "from cycler import cycler\r\n",
        "plt.style.use('ggplot')\r\n",
        "data = np.random.randn(50)\r\n",
        "axes.titlesize : 24\r\n",
        "axes.labelsize : 20\r\n",
        "lines.linewidth : 3\r\n",
        "lines.markersize : 10\r\n",
        "xtick.labelsize : 16\r\n",
        "ytick.labelsize : 16"
      ],
      "execution_count": null,
      "outputs": []
    }
  ]
}