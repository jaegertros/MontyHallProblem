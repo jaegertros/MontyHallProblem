{
  "nbformat": 4,
  "nbformat_minor": 0,
  "metadata": {
    "colab": {
      "name": "MontyHallProblem.ipynb",
      "provenance": [],
      "collapsed_sections": [],
      "authorship_tag": "ABX9TyMTsFHAfTwrBBJe1Zptm3tH",
      "include_colab_link": true
    },
    "kernelspec": {
      "name": "python3",
      "display_name": "Python 3"
    }
  },
  "cells": [
    {
      "cell_type": "markdown",
      "metadata": {
        "id": "view-in-github",
        "colab_type": "text"
      },
      "source": [
        "<a href=\"https://colab.research.google.com/github/jaegertros/MontyHallProblem/blob/main/MontyHallProblem.ipynb\" target=\"_parent\"><img src=\"https://colab.research.google.com/assets/colab-badge.svg\" alt=\"Open In Colab\"/></a>"
      ]
    },
    {
      "cell_type": "code",
      "metadata": {
        "id": "Mze1TfkWwdyC"
      },
      "source": [
        "#Description: This program simulates the Monty Hall problem"
      ],
      "execution_count": null,
      "outputs": []
    },
    {
      "cell_type": "markdown",
      "metadata": {
        "id": "_EOJWTj3xtMt"
      },
      "source": [
        "Retrieve the necessary python libraries:"
      ]
    },
    {
      "cell_type": "code",
      "metadata": {
        "id": "ELNpxnQZxCXv"
      },
      "source": [
        "import numpy as np\r\n",
        "import matplotlib.pyplot as plt\r\n",
        "import matplotlib as mpl\r\n",
        "import random\r\n",
        "#from cycler import cycler\r\n",
        "#plt.style.use('ggplot')\r\n",
        "plt.style.use('fivethirtyeight')\r\n",
        "#data = np.random.randn(50)\r\n",
        "#axes.titlesize : 24\r\n",
        "#axes.labelsize : 20\r\n",
        "#lines.linewidth : 3\r\n",
        "#lines.markersize : 10\r\n",
        "#xtick.labelsize : 16\r\n",
        "#ytick.labelsize : 16"
      ],
      "execution_count": 1,
      "outputs": []
    },
    {
      "cell_type": "markdown",
      "metadata": {
        "id": "woV35NGlyLqC"
      },
      "source": [
        "Remember that the host knows which door the prize is behind and will only reveal a door that does not have the prize, so I need to create a function to mimic this behavior."
      ]
    },
    {
      "cell_type": "code",
      "metadata": {
        "id": "lCAdrSNCyEEd"
      },
      "source": [
        "def get_non_prize_door(host, num_doors, player_choice):\r\n",
        "  i = 1\r\n",
        "  while (i == host or i== player_choice ):\r\n",
        "    i = (i+1)%(num_doors)\r\n",
        "  \r\n",
        "  return i"
      ],
      "execution_count": 2,
      "outputs": []
    },
    {
      "cell_type": "markdown",
      "metadata": {
        "id": "24zkNfJ1yruH"
      },
      "source": [
        "Have the player switch to the other unopened door"
      ]
    },
    {
      "cell_type": "code",
      "metadata": {
        "id": "-bdOLfnryjN6"
      },
      "source": [
        "def switch_function(shown_door, num_doors, player_choice):\r\n",
        "  i = 1\r\n",
        "  while (i == shown_door or i== player_choice ):\r\n",
        "    i = (i+1)%(num_doors)\r\n",
        "  \r\n",
        "  return i"
      ],
      "execution_count": 3,
      "outputs": []
    },
    {
      "cell_type": "markdown",
      "metadata": {
        "id": "HP_J9RjIzJQ2"
      },
      "source": [
        "Define the game:"
      ]
    },
    {
      "cell_type": "code",
      "metadata": {
        "id": "ucLD6bXAzLgW"
      },
      "source": [
        "def monty_hall_game(switch, num_tests):\r\n",
        "  win_switch_cnt = 0\r\n",
        "  win_no_switch_cnt = 0\r\n",
        "  lose_switch_cnt = 0\r\n",
        "  lose_no_switch_cnt = 0\r\n",
        "  doors = [1,2,3] #Get the doors\r\n",
        "  num_doors = len(doors) #Get the number of doors\r\n",
        "  \r\n",
        "  \r\n",
        "  for i in range(0,num_tests):\r\n",
        "    door_with_prize = random.randint(0, num_doors-1) #Randomly choose the door with the wanted prize\r\n",
        "    host = door_with_prize #The host knows which door has the prize\r\n",
        "    #The player chooses initially a random door that s/he believes has the prize\r\n",
        "    player_choice = random.randint(0, num_doors-1) \r\n",
        "    original_player_choice = player_choice\r\n",
        "    shown_door = get_non_prize_door(host, num_doors, player_choice)\r\n",
        "    if switch == True:\r\n",
        "      player_choice = switch_function(shown_door,num_doors, player_choice)\r\n",
        "    \r\n",
        "    if player_choice == host and switch == False:\r\n",
        "      #Then the player wins from not switching\r\n",
        "      print('Player Wins (No switch) - The player chose door: ', player_choice,' Original choice: ',original_player_choice ,', Door with prize:', door_with_prize, ', Shown Door: ',shown_door )\r\n",
        "      win_no_switch_cnt = win_no_switch_cnt + 1\r\n",
        "    elif player_choice == host and switch == True:\r\n",
        "      #Then the player wins from switching\r\n",
        "      print('Player Wins (switch) - The player chose door: ', player_choice,' Original choice: ',original_player_choice , ', Door with prize:', door_with_prize, ', Shown Door: ',shown_door )\r\n",
        "      win_switch_cnt = win_switch_cnt +1\r\n",
        "    elif player_choice != host and switch == False:\r\n",
        "      #The player lost from not switching\r\n",
        "      print('Player Lost (No switch) - The player chose door: ', player_choice,' Original choice: ',original_player_choice , ', Door with prize:', door_with_prize, ', Shown Door: ',shown_door )\r\n",
        "      lose_no_switch_cnt = lose_no_switch_cnt + 1\r\n",
        "    elif player_choice != host and switch == True:\r\n",
        "      #The player lost from switching\r\n",
        "      print('Player Lost (switch) - The player chose door: ', player_choice,' Original choice: ',original_player_choice , ', Door with prize:', door_with_prize, ', Shown Door: ',shown_door )\r\n",
        "      lose_switch_cnt = lose_switch_cnt + 1\r\n",
        "    else:\r\n",
        "      print('SOMETHING IS WRONG')\r\n",
        "\r\n",
        "  return win_no_switch_cnt,win_switch_cnt,lose_no_switch_cnt,lose_switch_cnt, num_tests"
      ],
      "execution_count": 32,
      "outputs": []
    },
    {
      "cell_type": "markdown",
      "metadata": {
        "id": "J_eF85BB0bUs"
      },
      "source": [
        "Decide:\r\n",
        "\r\n",
        "\r\n",
        "*   How many rounds of the game do you want to simulate? (num_tests)\r\n",
        "*   Do you want the contestant to always switch doors or to never switch doors? (switch)\r\n",
        "\r\n",
        "Then define those two variables below before you"
      ]
    },
    {
      "cell_type": "markdown",
      "metadata": {
        "id": "hn0gc40x5lZe"
      },
      "source": [
        "**Play the game:**"
      ]
    },
    {
      "cell_type": "code",
      "metadata": {
        "colab": {
          "base_uri": "https://localhost:8080/"
        },
        "id": "SECSaI7BzmUn",
        "outputId": "1ecda381-7a38-4598-be40-79e1a53c653f"
      },
      "source": [
        "num_tests = 10      #Change to the number of rounds of the game that you want to simulate\r\n",
        "switch = True       #Change to 'True' if you want the player to always switch or 'False' if you want the player to never switch\r\n",
        "x = monty_hall_game(switch, num_tests)\r\n",
        "\r\n",
        "if switch == True:\r\n",
        "  print('Win switch %: ', x[1]/ x[4])\r\n",
        "  print('Lose switch %: ', x[3]/ x[4])\r\n",
        "elif switch == False:\r\n",
        "  print('Win No switch %: ', x[0]/ x[4])\r\n",
        "  print('Lose No switch %: ', x[2]/ x[4])"
      ],
      "execution_count": 33,
      "outputs": [
        {
          "output_type": "stream",
          "text": [
            "Player Wins (switch) - The player chose door:  0  Original choice:  2 , Door with prize: 0 , Shown Door:  1\n",
            "Player Lost (switch) - The player chose door:  0  Original choice:  2 , Door with prize: 2 , Shown Door:  1\n",
            "Player Wins (switch) - The player chose door:  1  Original choice:  2 , Door with prize: 1 , Shown Door:  0\n",
            "Player Wins (switch) - The player chose door:  1  Original choice:  0 , Door with prize: 1 , Shown Door:  2\n",
            "Player Wins (switch) - The player chose door:  0  Original choice:  2 , Door with prize: 0 , Shown Door:  1\n",
            "Player Wins (switch) - The player chose door:  2  Original choice:  1 , Door with prize: 2 , Shown Door:  0\n",
            "Player Wins (switch) - The player chose door:  1  Original choice:  2 , Door with prize: 1 , Shown Door:  0\n",
            "Player Wins (switch) - The player chose door:  1  Original choice:  2 , Door with prize: 1 , Shown Door:  0\n",
            "Player Wins (switch) - The player chose door:  1  Original choice:  2 , Door with prize: 1 , Shown Door:  0\n",
            "Player Lost (switch) - The player chose door:  0  Original choice:  2 , Door with prize: 2 , Shown Door:  1\n",
            "Win switch %:  0.8\n",
            "Lose switch %:  0.2\n"
          ],
          "name": "stdout"
        }
      ]
    }
  ]
}